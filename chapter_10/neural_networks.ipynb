{
 "cells": [
  {
   "cell_type": "code",
   "execution_count": 1,
   "id": "343ae9b3",
   "metadata": {},
   "outputs": [],
   "source": [
    "\"\"\" \n",
    "In this dataset, the output is a number between 0 and 1, but it represents two classes. In Keras, it\n",
    "is recommended to categorize this type of output. This simply means that points with label 0 will\n",
    "now have a label [1,0], and points with label 1 will now have a label [0,1]. We do this using the\n",
    "to_categorical function as follows:\n",
    "\"\"\"\n",
    "\n",
    "import pandas\n",
    "import numpy\n",
    "import matplotlib.pyplot as plt\n",
    "import tensorflow\n",
    "import keras\n",
    "from keras.models import Sequential\n",
    "from keras.layers import Dense, Dropout, Activation\n",
    "from keras.optimizers import SGD\n",
    "\n",
    "import _plotting\n",
    "\n",
    "# Setting random seeds to get reproducible results\n",
    "numpy.random.seed(0)\n",
    "tensorflow.random.set_seed(1)\n",
    "\n"
   ]
  },
  {
   "cell_type": "code",
   "execution_count": 2,
   "id": "2060f545",
   "metadata": {},
   "outputs": [
    {
     "data": {
      "image/png": "[encoded data removed]",
      "text/plain": [
       "<Figure size 640x480 with 1 Axes>"
      ]
     },
     "metadata": {},
     "output_type": "display_data"
    }
   ],
   "source": [
    "# Read the dataset\n",
    "data = pandas.read_csv('one_circle.csv', index_col=0)\n",
    "columns_features = ['x_1', 'x_2']\n",
    "column_label = 'y'\n",
    "features = data[columns_features].values\n",
    "labels = data[column_label].values\n",
    "\n",
    "_plotting.plot_scatter(data['x_1'][labels == 0], data['x_2'][labels == 0], marker = 's')\n",
    "_plotting.plot_scatter(data['x_1'][labels == 1], data['x_2'][labels == 1], marker = '^')\n",
    "plt.xlabel('x_1')\n",
    "plt.ylabel('x_2')\n",
    "plt.legend(['Happy', 'Sad'])\n",
    "plt.show()\n"
   ]
  },
  {
   "cell_type": "code",
   "execution_count": null,
   "id": "e454dfe3",
   "metadata": {},
   "outputs": [],
   "source": [
    "\"\"\"\n",
    "We'll convert the label column to categorical to make it easier for the model to process. It also saves memory too. \n",
    "Pandas has a built-in function called factorize, which interprets the number of classes for us. Unlike keras.utils.to_categorical, this returns a 1D-array.\n",
    "\"\"\""
   ]
  },
  {
   "cell_type": "code",
   "execution_count": 3,
   "id": "b2b0f41f",
   "metadata": {},
   "outputs": [],
   "source": [
    "# categorizing the output\n",
    "series_labels, labels = pandas.factorize(data[column_label])"
   ]
  },
  {
   "cell_type": "code",
   "execution_count": 4,
   "id": "a12abc54",
   "metadata": {},
   "outputs": [
    {
     "data": {
      "text/plain": [
       "(array([0, 0, 0, 0, 0, 0, 0, 0, 0, 0, 0, 1, 0, 0, 0, 0, 0, 0, 0, 0, 0, 0,\n",
       "        0, 1, 0, 1, 0, 0, 0, 0, 0, 0, 0, 1, 1, 0, 1, 0, 0, 1, 0, 0, 0, 0,\n",
       "        0, 0, 0, 0, 0, 1, 0, 0, 0, 0, 0, 0, 0, 0, 0, 1, 0, 1, 0, 1, 0, 0,\n",
       "        0, 0, 0, 0, 0, 0, 0, 0, 0, 0, 0, 1, 0, 0, 0, 0, 0, 0, 0, 0, 0, 1,\n",
       "        1, 0, 0, 0, 0, 1, 1, 1, 0, 1, 0, 0, 1, 1, 1, 1, 0, 1, 1, 1, 1, 0]),\n",
       " Index([0, 1], dtype='int64'))"
      ]
     },
     "execution_count": 4,
     "metadata": {},
     "output_type": "execute_result"
    }
   ],
   "source": [
    "series_labels, labels"
   ]
  },
  {
   "cell_type": "code",
   "execution_count": null,
   "id": "359662bd",
   "metadata": {},
   "outputs": [],
   "source": [
    "\"\"\" \n",
    "Model Structure\n",
    "We'll use a sequential model to add a few dense layers with the ReLu activation function. Why are we using sigmoid instead of softmax? \n",
    "It's also a common practice to add dropout. It is also a good idea to set our unit sizes as powers of 2, which was a trick for training slightly faster on GPUs. . \n",
    "We also use sparse_categorical_crossentropy since our labels are 1D.\n",
    "\"\"\"\n",
    "\n",
    "# Building the model\n",
    "num_units_penultimate = 2**6\n",
    "model = Sequential()\n",
    "model.add(Dense(2**7, activation='relu', input_shape=(features.shape[1],)))\n",
    "model.add(Dropout(.2))\n",
    "model.add(Dense(num_units_penultimate, activation='relu'))\n",
    "model.add(Dropout(.2))\n",
    "model.add(Dense(len(labels), activation='sigmoid')) # two classes, else softmax\n",
    "\n",
    "# Compiling the model\n",
    "model.compile(\n",
    "    loss = 'sparse_categorical_crossentropy', # 1D labels, else categorical_crossentropy\n",
    "    optimizer='adam',\n",
    "    metrics=['accuracy']\n",
    ")\n",
    "model.summary()"
   ]
  }
 ],
 "metadata": {
  "kernelspec": {
   "display_name": "grokking_my_venv",
   "language": "python",
   "name": "python3"
  },
  "language_info": {
   "codemirror_mode": {
    "name": "ipython",
    "version": 3
   },
   "file_extension": ".py",
   "mimetype": "text/x-python",
   "name": "python",
   "nbconvert_exporter": "python",
   "pygments_lexer": "ipython3",
   "version": "3.12.7"
  }
 },
 "nbformat": 4,
 "nbformat_minor": 5
}
